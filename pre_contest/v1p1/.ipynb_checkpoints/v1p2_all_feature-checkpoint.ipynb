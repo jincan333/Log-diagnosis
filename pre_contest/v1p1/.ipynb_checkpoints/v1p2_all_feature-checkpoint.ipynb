{
 "cells": [
  {
   "cell_type": "markdown",
   "id": "18c0ace7",
   "metadata": {},
   "source": [
    "# 背景：将v1_baseline词频向量、v1p1词频向量、word2cev词向量合并训练模型"
   ]
  },
  {
   "cell_type": "markdown",
   "id": "89d7456b",
   "metadata": {},
   "source": [
    "## 导包、设置根目录"
   ]
  },
  {
   "cell_type": "code",
   "execution_count": 1,
   "id": "de2893e4",
   "metadata": {},
   "outputs": [
    {
     "name": "stdout",
     "output_type": "stream",
     "text": [
      "C:\\workfile\\python\\Log-diagnosis\n"
     ]
    },
    {
     "name": "stderr",
     "output_type": "stream",
     "text": [
      "C:\\Users\\jinca\\anaconda3\\envs\\Log_diagnosis_python\\lib\\site-packages\\gensim\\similarities\\__init__.py:15: UserWarning: The gensim.similarities.levenshtein submodule is disabled, because the optional Levenshtein package <https://pypi.org/project/python-Levenshtein/> is unavailable. Install Levenhstein (e.g. `pip install python-Levenshtein`) to suppress this warning.\n",
      "  warnings.warn(msg)\n",
      "C:\\Users\\jinca\\anaconda3\\envs\\Log_diagnosis_python\\lib\\site-packages\\xgboost\\compat.py:36: FutureWarning: pandas.Int64Index is deprecated and will be removed from pandas in a future version. Use pandas.Index with the appropriate dtype instead.\n",
      "  from pandas import MultiIndex, Int64Index\n"
     ]
    }
   ],
   "source": [
    "import pandas as pd\n",
    "import numpy as np\n",
    "import os\n",
    "import nltk\n",
    "from nltk.tokenize import word_tokenize\n",
    "from gensim.models.doc2vec import Doc2Vec, TaggedDocument\n",
    "from sklearn.ensemble import RandomForestClassifier\n",
    "import xgboost as xgb\n",
    "import random\n",
    "import pickle\n",
    "import multiprocessing\n",
    "import re\n",
    "import pickle\n",
    "\n",
    "from collections import Counter\n",
    "from itertools import chain\n",
    "import datetime\n",
    "\n",
    "# 更改工作目录为当前项目根目录\n",
    "import sys\n",
    "import os\n",
    "os.chdir(os.path.dirname(os.path.dirname(sys.path[0])))\n",
    "print(os.getcwd())"
   ]
  },
  {
   "cell_type": "markdown",
   "id": "67f28503",
   "metadata": {},
   "source": [
    "## 读取v1_baseline词频向量和v1p1词频向量"
   ]
  },
  {
   "cell_type": "code",
   "execution_count": null,
   "id": "f7a2fa85",
   "metadata": {},
   "outputs": [],
   "source": [
    "# frequency_vector_df.to_csv('pre_contest/dataset/frequency_vector_df.txt',sep='\\t')\n",
    "# frequency_vector_df.to_csv('pre_contest/dataset/frequency_vector_df.txt',sep='\\t')"
   ]
  }
 ],
 "metadata": {
  "kernelspec": {
   "display_name": "Log_diagosis_python",
   "language": "python",
   "name": "log_diagosis_python"
  },
  "language_info": {
   "codemirror_mode": {
    "name": "ipython",
    "version": 3
   },
   "file_extension": ".py",
   "mimetype": "text/x-python",
   "name": "python",
   "nbconvert_exporter": "python",
   "pygments_lexer": "ipython3",
   "version": "3.8.12"
  }
 },
 "nbformat": 4,
 "nbformat_minor": 5
}
