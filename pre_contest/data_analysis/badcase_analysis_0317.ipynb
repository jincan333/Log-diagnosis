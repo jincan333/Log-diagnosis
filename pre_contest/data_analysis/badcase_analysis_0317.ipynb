{
 "cells": [
  {
   "cell_type": "markdown",
   "id": "55808907",
   "metadata": {},
   "source": [
    "# 导包，设置根目录"
   ]
  },
  {
   "cell_type": "code",
   "execution_count": 1,
   "id": "717a62bd",
   "metadata": {},
   "outputs": [
    {
     "name": "stdout",
     "output_type": "stream",
     "text": [
      "C:\\workfile\\python\\Log-diagnosis\n"
     ]
    },
    {
     "name": "stderr",
     "output_type": "stream",
     "text": [
      "C:\\Users\\jinca\\anaconda3\\envs\\Log_diagnosis_python\\lib\\site-packages\\gensim\\similarities\\__init__.py:15: UserWarning: The gensim.similarities.levenshtein submodule is disabled, because the optional Levenshtein package <https://pypi.org/project/python-Levenshtein/> is unavailable. Install Levenhstein (e.g. `pip install python-Levenshtein`) to suppress this warning.\n",
      "  warnings.warn(msg)\n",
      "C:\\Users\\jinca\\anaconda3\\envs\\Log_diagnosis_python\\lib\\site-packages\\xgboost\\compat.py:36: FutureWarning: pandas.Int64Index is deprecated and will be removed from pandas in a future version. Use pandas.Index with the appropriate dtype instead.\n",
      "  from pandas import MultiIndex, Int64Index\n"
     ]
    }
   ],
   "source": [
    "import pandas as pd\n",
    "import numpy as np\n",
    "import os\n",
    "import nltk\n",
    "from nltk.tokenize import word_tokenize\n",
    "from gensim.models.doc2vec import Doc2Vec, TaggedDocument\n",
    "from sklearn.ensemble import RandomForestClassifier\n",
    "import xgboost as xgb\n",
    "import random\n",
    "import pickle\n",
    "import multiprocessing\n",
    "import re\n",
    "import pickle\n",
    "\n",
    "from collections import Counter\n",
    "from itertools import chain\n",
    "import datetime\n",
    "\n",
    "# 更改工作目录为当前项目根目录\n",
    "import sys\n",
    "import os\n",
    "os.chdir(os.path.dirname(os.path.dirname(sys.path[0])))\n",
    "print(os.getcwd())"
   ]
  },
  {
   "cell_type": "code",
   "execution_count": 3,
   "id": "80c2ed58",
   "metadata": {},
   "outputs": [
    {
     "data": {
      "text/plain": [
       "label\n",
       "0    1460\n",
       "1    3016\n",
       "2    7731\n",
       "3    2214\n",
       "dtype: int64"
      ]
     },
     "execution_count": 3,
     "metadata": {},
     "output_type": "execute_result"
    }
   ],
   "source": [
    "v1_badcase_df=pd.read_csv('pre_contest/data_analysis/v1_badcase_df.csv',sep=',')\n",
    "v1_0_1_badcase_df=pd.read_csv('pre_contest/data_analysis/v1_0_1_badcase_df.csv',sep=',')\n",
    "word_frequency_df=pd.read_csv('./pre_contest/dataset/word_frequency_df.txt',sep='\\t',index_col=0)\n",
    "word_list=list(word_frequency_df['word'])\n",
    "word_df = pd.read_csv('./pre_contest/dataset/word_label_df.txt',sep='\\t',index_col=0)\n",
    "word_df.groupby('label').size()"
   ]
  },
  {
   "cell_type": "markdown",
   "id": "19205d20",
   "metadata": {},
   "source": [
    "# badcase分析"
   ]
  },
  {
   "cell_type": "code",
   "execution_count": 4,
   "id": "e899e4d8",
   "metadata": {},
   "outputs": [
    {
     "data": {
      "text/plain": [
       "prediction\n",
       "0    123\n",
       "1    257\n",
       "2     48\n",
       "3     19\n",
       "dtype: int64"
      ]
     },
     "execution_count": 4,
     "metadata": {},
     "output_type": "execute_result"
    }
   ],
   "source": [
    "# 标签0的预测值分布\n",
    "v1_0_1_badcase_df[v1_0_1_badcase_df['label']==0].groupby('prediction').size()"
   ]
  },
  {
   "cell_type": "code",
   "execution_count": 10,
   "id": "56a47960",
   "metadata": {},
   "outputs": [
    {
     "data": {
      "text/plain": [
       "label\n",
       "0    123\n",
       "1     94\n",
       "2     19\n",
       "3      4\n",
       "dtype: int64"
      ]
     },
     "execution_count": 10,
     "metadata": {},
     "output_type": "execute_result"
    }
   ],
   "source": [
    "# 预测0的标签分布\n",
    "v1_badcase_df[v1_badcase_df['prediction']==0].groupby('label').size()"
   ]
  },
  {
   "cell_type": "code",
   "execution_count": 5,
   "id": "d7aa8140",
   "metadata": {},
   "outputs": [
    {
     "data": {
      "text/plain": [
       "prediction\n",
       "0     94\n",
       "1    753\n",
       "2     52\n",
       "3     21\n",
       "dtype: int64"
      ]
     },
     "execution_count": 5,
     "metadata": {},
     "output_type": "execute_result"
    }
   ],
   "source": [
    "# 标签1的预测值分布\n",
    "v1_0_1_badcase_df[v1_0_1_badcase_df['label']==1].groupby('prediction').size()"
   ]
  },
  {
   "cell_type": "code",
   "execution_count": 12,
   "id": "b9ca0657",
   "metadata": {},
   "outputs": [
    {
     "data": {
      "text/plain": [
       "label\n",
       "0    257\n",
       "1    753\n",
       "2     19\n",
       "3     18\n",
       "dtype: int64"
      ]
     },
     "execution_count": 12,
     "metadata": {},
     "output_type": "execute_result"
    }
   ],
   "source": [
    "# 预测1的标签分布\n",
    "v1_badcase_df[v1_badcase_df['prediction']==1].groupby('label').size()"
   ]
  },
  {
   "cell_type": "code",
   "execution_count": 7,
   "id": "c30c70a6",
   "metadata": {},
   "outputs": [
    {
     "data": {
      "text/plain": [
       "prediction\n",
       "0      19\n",
       "1      19\n",
       "2    2180\n",
       "3      41\n",
       "dtype: int64"
      ]
     },
     "execution_count": 7,
     "metadata": {},
     "output_type": "execute_result"
    }
   ],
   "source": [
    "# 标签2的预测值分布\n",
    "v1_badcase_df[v1_badcase_df['label']==2].groupby('prediction').size()"
   ]
  },
  {
   "cell_type": "code",
   "execution_count": 13,
   "id": "7bab4723",
   "metadata": {},
   "outputs": [
    {
     "data": {
      "text/plain": [
       "label\n",
       "0      48\n",
       "1      52\n",
       "2    2180\n",
       "3      22\n",
       "dtype: int64"
      ]
     },
     "execution_count": 13,
     "metadata": {},
     "output_type": "execute_result"
    }
   ],
   "source": [
    "# 预测2的标签分布\n",
    "v1_badcase_df[v1_badcase_df['prediction']==2].groupby('label').size()"
   ]
  },
  {
   "cell_type": "code",
   "execution_count": 8,
   "id": "dda9d2f9",
   "metadata": {},
   "outputs": [
    {
     "data": {
      "text/plain": [
       "prediction\n",
       "0      4\n",
       "1     18\n",
       "2     22\n",
       "3    618\n",
       "dtype: int64"
      ]
     },
     "execution_count": 8,
     "metadata": {},
     "output_type": "execute_result"
    }
   ],
   "source": [
    "# 标签3的预测值分布\n",
    "v1_badcase_df[v1_badcase_df['label']==3].groupby('prediction').size()"
   ]
  },
  {
   "cell_type": "code",
   "execution_count": 14,
   "id": "a99a8763",
   "metadata": {},
   "outputs": [
    {
     "data": {
      "text/plain": [
       "label\n",
       "0     19\n",
       "1     21\n",
       "2     41\n",
       "3    618\n",
       "dtype: int64"
      ]
     },
     "execution_count": 14,
     "metadata": {},
     "output_type": "execute_result"
    }
   ],
   "source": [
    "# 预测3的标签分布\n",
    "v1_badcase_df[v1_badcase_df['prediction']==3].groupby('label').size()"
   ]
  },
  {
   "cell_type": "code",
   "execution_count": null,
   "id": "5e5817f1",
   "metadata": {},
   "outputs": [],
   "source": []
  }
 ],
 "metadata": {
  "kernelspec": {
   "display_name": "Log_diagosis_python",
   "language": "python",
   "name": "log_diagosis_python"
  },
  "language_info": {
   "codemirror_mode": {
    "name": "ipython",
    "version": 3
   },
   "file_extension": ".py",
   "mimetype": "text/x-python",
   "name": "python",
   "nbconvert_exporter": "python",
   "pygments_lexer": "ipython3",
   "version": "3.8.12"
  }
 },
 "nbformat": 4,
 "nbformat_minor": 5
}
